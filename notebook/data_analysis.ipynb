{
 "cells": [
  {
   "cell_type": "markdown",
   "metadata": {},
   "source": [
    "# Data analysis\n",
    "\n"
   ]
  },
  {
   "cell_type": "markdown",
   "metadata": {},
   "source": [
    "## Exploration using pandas"
   ]
  },
  {
   "cell_type": "code",
   "execution_count": 5,
   "metadata": {},
   "outputs": [],
   "source": [
    "import pandas as pd\n"
   ]
  },
  {
   "cell_type": "code",
   "execution_count": 6,
   "metadata": {},
   "outputs": [
    {
     "data": {
      "text/html": [
       "<div>\n",
       "<style scoped>\n",
       "    .dataframe tbody tr th:only-of-type {\n",
       "        vertical-align: middle;\n",
       "    }\n",
       "\n",
       "    .dataframe tbody tr th {\n",
       "        vertical-align: top;\n",
       "    }\n",
       "\n",
       "    .dataframe thead th {\n",
       "        text-align: right;\n",
       "    }\n",
       "</style>\n",
       "<table border=\"1\" class=\"dataframe\">\n",
       "  <thead>\n",
       "    <tr style=\"text-align: right;\">\n",
       "      <th></th>\n",
       "      <th>Comment</th>\n",
       "      <th>Category</th>\n",
       "    </tr>\n",
       "  </thead>\n",
       "  <tbody>\n",
       "    <tr>\n",
       "      <th>0</th>\n",
       "      <td>Nice words but there are urgent questions that...</td>\n",
       "      <td>politique</td>\n",
       "    </tr>\n",
       "    <tr>\n",
       "      <th>1</th>\n",
       "      <td>To build a society to which everyone aspires t...</td>\n",
       "      <td>politique</td>\n",
       "    </tr>\n",
       "    <tr>\n",
       "      <th>2</th>\n",
       "      <td>But the retirees did not mention whether they ...</td>\n",
       "      <td>politique</td>\n",
       "    </tr>\n",
       "    <tr>\n",
       "      <th>3</th>\n",
       "      <td>It would be preferable if the doors were opene...</td>\n",
       "      <td>politique</td>\n",
       "    </tr>\n",
       "    <tr>\n",
       "      <th>4</th>\n",
       "      <td>Experts researchers and sociologists say that ...</td>\n",
       "      <td>politique</td>\n",
       "    </tr>\n",
       "  </tbody>\n",
       "</table>\n",
       "</div>"
      ],
      "text/plain": [
       "                                             Comment   Category\n",
       "0  Nice words but there are urgent questions that...  politique\n",
       "1  To build a society to which everyone aspires t...  politique\n",
       "2  But the retirees did not mention whether they ...  politique\n",
       "3  It would be preferable if the doors were opene...  politique\n",
       "4  Experts researchers and sociologists say that ...  politique"
      ]
     },
     "execution_count": 6,
     "metadata": {},
     "output_type": "execute_result"
    }
   ],
   "source": [
    "# Define the file path\n",
    "file_path = '../english_comments_2024-05-18/all_comments_translated.csv'\n",
    "\n",
    "# Load the dataset\n",
    "df = pd.read_csv(file_path, header=None, names=['Comment', 'Category'])\n",
    "\n",
    "# Display the first few rows of the dataframe\n",
    "df.head()"
   ]
  },
  {
   "cell_type": "code",
   "execution_count": 4,
   "metadata": {},
   "outputs": [
    {
     "name": "stdout",
     "output_type": "stream",
     "text": [
      "<class 'pandas.core.frame.DataFrame'>\n",
      "RangeIndex: 952 entries, 0 to 951\n",
      "Data columns (total 2 columns):\n",
      " #   Column    Non-Null Count  Dtype \n",
      "---  ------    --------------  ----- \n",
      " 0   Comment   952 non-null    object\n",
      " 1   Category  952 non-null    object\n",
      "dtypes: object(2)\n",
      "memory usage: 15.0+ KB\n"
     ]
    }
   ],
   "source": [
    "# Get basic information about the dataset\n",
    "df.info()\n"
   ]
  },
  {
   "cell_type": "code",
   "execution_count": 5,
   "metadata": {},
   "outputs": [
    {
     "data": {
      "text/html": [
       "<div>\n",
       "<style scoped>\n",
       "    .dataframe tbody tr th:only-of-type {\n",
       "        vertical-align: middle;\n",
       "    }\n",
       "\n",
       "    .dataframe tbody tr th {\n",
       "        vertical-align: top;\n",
       "    }\n",
       "\n",
       "    .dataframe thead th {\n",
       "        text-align: right;\n",
       "    }\n",
       "</style>\n",
       "<table border=\"1\" class=\"dataframe\">\n",
       "  <thead>\n",
       "    <tr style=\"text-align: right;\">\n",
       "      <th></th>\n",
       "      <th>Comment</th>\n",
       "      <th>Category</th>\n",
       "    </tr>\n",
       "  </thead>\n",
       "  <tbody>\n",
       "    <tr>\n",
       "      <th>count</th>\n",
       "      <td>952</td>\n",
       "      <td>952</td>\n",
       "    </tr>\n",
       "    <tr>\n",
       "      <th>unique</th>\n",
       "      <td>951</td>\n",
       "      <td>11</td>\n",
       "    </tr>\n",
       "    <tr>\n",
       "      <th>top</th>\n",
       "      <td>The ministry wants to limit the migration of d...</td>\n",
       "      <td>societe</td>\n",
       "    </tr>\n",
       "    <tr>\n",
       "      <th>freq</th>\n",
       "      <td>2</td>\n",
       "      <td>164</td>\n",
       "    </tr>\n",
       "  </tbody>\n",
       "</table>\n",
       "</div>"
      ],
      "text/plain": [
       "                                                  Comment Category\n",
       "count                                                 952      952\n",
       "unique                                                951       11\n",
       "top     The ministry wants to limit the migration of d...  societe\n",
       "freq                                                    2      164"
      ]
     },
     "execution_count": 5,
     "metadata": {},
     "output_type": "execute_result"
    }
   ],
   "source": [
    "# Get descriptive statistics for the dataset\n",
    "df.describe()\n"
   ]
  },
  {
   "cell_type": "code",
   "execution_count": 6,
   "metadata": {},
   "outputs": [
    {
     "data": {
      "text/plain": [
       "Category\n",
       "societe           164\n",
       "medias            158\n",
       "sport             155\n",
       "tamazight         136\n",
       "international      82\n",
       "economie           79\n",
       "faits-divers       70\n",
       "politique          61\n",
       "sawt-soura         21\n",
       "art-et-culture     16\n",
       "regions            10\n",
       "Name: count, dtype: int64"
      ]
     },
     "execution_count": 6,
     "metadata": {},
     "output_type": "execute_result"
    }
   ],
   "source": [
    "# Check the distribution of categories\n",
    "df['Category'].value_counts()\n"
   ]
  },
  {
   "cell_type": "code",
   "execution_count": 7,
   "metadata": {},
   "outputs": [
    {
     "data": {
      "text/plain": [
       "Comment     0\n",
       "Category    0\n",
       "dtype: int64"
      ]
     },
     "execution_count": 7,
     "metadata": {},
     "output_type": "execute_result"
    }
   ],
   "source": [
    "# Check for missing values\n",
    "df.isnull().sum()\n"
   ]
  },
  {
   "cell_type": "code",
   "execution_count": 9,
   "metadata": {},
   "outputs": [
    {
     "data": {
      "text/plain": [
       "0"
      ]
     },
     "execution_count": 9,
     "metadata": {},
     "output_type": "execute_result"
    }
   ],
   "source": [
    "# Check for duplicate rows\n",
    "df.duplicated().sum()"
   ]
  },
  {
   "cell_type": "markdown",
   "metadata": {},
   "source": [
    "## Sentiment analysis using Roberta algorithm"
   ]
  },
  {
   "cell_type": "code",
   "execution_count": 10,
   "metadata": {},
   "outputs": [],
   "source": [
    "from transformers import AutoTokenizer, RobertaForSequenceClassification\n",
    "from tqdm import tqdm\n",
    "from scipy.special import softmax"
   ]
  },
  {
   "cell_type": "code",
   "execution_count": 11,
   "metadata": {},
   "outputs": [
    {
     "name": "stderr",
     "output_type": "stream",
     "text": [
      "c:\\Users\\asus\\AppData\\Local\\Programs\\Python\\Python312\\Lib\\site-packages\\huggingface_hub\\file_download.py:1132: FutureWarning: `resume_download` is deprecated and will be removed in version 1.0.0. Downloads always resume when possible. If you want to force a new download, use `force_download=True`.\n",
      "  warnings.warn(\n"
     ]
    }
   ],
   "source": [
    "# Load the RoBERTa tokenizer\n",
    "MODEL = \"cardiffnlp/twitter-roberta-base-sentiment\"\n",
    "tokenizer = AutoTokenizer.from_pretrained(MODEL)\n",
    "\n",
    "# Load the RoBERTa model for sequence classification\n",
    "model = RobertaForSequenceClassification.from_pretrained(MODEL)\n",
    "\n",
    "# Define the sentiment analysis function using RoBERTa\n",
    "def polarity_scores_roberta(example):\n",
    "    encoded_text = tokenizer(example, return_tensors='pt')\n",
    "    output = model(**encoded_text)\n",
    "    scores = output.logits.detach().cpu().numpy()\n",
    "    scores = softmax(scores)\n",
    "    scores_dict = {\n",
    "        'roberta_neg': scores[0][0],\n",
    "        'roberta_neu': scores[0][1],\n",
    "        'roberta_pos': scores[0][2]\n",
    "    }\n",
    "    return scores_dict\n"
   ]
  },
  {
   "cell_type": "code",
   "execution_count": 12,
   "metadata": {},
   "outputs": [
    {
     "name": "stderr",
     "output_type": "stream",
     "text": [
      "100%|██████████| 952/952 [00:59<00:00, 16.09it/s]\n"
     ]
    }
   ],
   "source": [
    "# Apply sentiment analysis to each comment in the DataFrame\n",
    "res = {}\n",
    "for i, row in tqdm(df.iterrows(), total=len(df)):\n",
    "    try:\n",
    "        text = row['Comment']  # Assuming 'Comment' is the column containing the comments\n",
    "        roberta_result = polarity_scores_roberta(text)\n",
    "        res[i] = roberta_result\n",
    "    except RuntimeError as e:\n",
    "        print(f'Broke for index {i} with error {e}')\n"
   ]
  },
  {
   "cell_type": "code",
   "execution_count": 13,
   "metadata": {},
   "outputs": [],
   "source": [
    "# Create a DataFrame from the sentiment analysis results\n",
    "results_df = pd.DataFrame(res).T\n",
    "results_df = results_df.reset_index().rename(columns={'index': 'Id'})\n"
   ]
  },
  {
   "cell_type": "code",
   "execution_count": 14,
   "metadata": {},
   "outputs": [],
   "source": [
    "# Merge the sentiment analysis results with the original DataFrame\n",
    "final_df = results_df.merge(df, left_on='Id', right_index=True)\n"
   ]
  },
  {
   "cell_type": "code",
   "execution_count": 18,
   "metadata": {},
   "outputs": [
    {
     "data": {
      "text/html": [
       "<div>\n",
       "<style scoped>\n",
       "    .dataframe tbody tr th:only-of-type {\n",
       "        vertical-align: middle;\n",
       "    }\n",
       "\n",
       "    .dataframe tbody tr th {\n",
       "        vertical-align: top;\n",
       "    }\n",
       "\n",
       "    .dataframe thead th {\n",
       "        text-align: right;\n",
       "    }\n",
       "</style>\n",
       "<table border=\"1\" class=\"dataframe\">\n",
       "  <thead>\n",
       "    <tr style=\"text-align: right;\">\n",
       "      <th></th>\n",
       "      <th>Comment</th>\n",
       "      <th>Category</th>\n",
       "      <th>roberta_neg</th>\n",
       "      <th>roberta_neu</th>\n",
       "      <th>roberta_pos</th>\n",
       "    </tr>\n",
       "  </thead>\n",
       "  <tbody>\n",
       "    <tr>\n",
       "      <th>0</th>\n",
       "      <td>Nice words but there are urgent questions that...</td>\n",
       "      <td>politique</td>\n",
       "      <td>0.352582</td>\n",
       "      <td>0.559292</td>\n",
       "      <td>0.088126</td>\n",
       "    </tr>\n",
       "    <tr>\n",
       "      <th>1</th>\n",
       "      <td>To build a society to which everyone aspires t...</td>\n",
       "      <td>politique</td>\n",
       "      <td>0.037970</td>\n",
       "      <td>0.620614</td>\n",
       "      <td>0.341417</td>\n",
       "    </tr>\n",
       "    <tr>\n",
       "      <th>2</th>\n",
       "      <td>But the retirees did not mention whether they ...</td>\n",
       "      <td>politique</td>\n",
       "      <td>0.741900</td>\n",
       "      <td>0.244393</td>\n",
       "      <td>0.013707</td>\n",
       "    </tr>\n",
       "    <tr>\n",
       "      <th>3</th>\n",
       "      <td>It would be preferable if the doors were opene...</td>\n",
       "      <td>politique</td>\n",
       "      <td>0.140129</td>\n",
       "      <td>0.631564</td>\n",
       "      <td>0.228308</td>\n",
       "    </tr>\n",
       "    <tr>\n",
       "      <th>4</th>\n",
       "      <td>Experts researchers and sociologists say that ...</td>\n",
       "      <td>politique</td>\n",
       "      <td>0.794581</td>\n",
       "      <td>0.197406</td>\n",
       "      <td>0.008013</td>\n",
       "    </tr>\n",
       "    <tr>\n",
       "      <th>5</th>\n",
       "      <td>This is the juice of Diyal with the correctnes...</td>\n",
       "      <td>politique</td>\n",
       "      <td>0.005623</td>\n",
       "      <td>0.199223</td>\n",
       "      <td>0.795154</td>\n",
       "    </tr>\n",
       "    <tr>\n",
       "      <th>6</th>\n",
       "      <td>Indeed this is its condition and this is its m...</td>\n",
       "      <td>politique</td>\n",
       "      <td>0.036773</td>\n",
       "      <td>0.874638</td>\n",
       "      <td>0.088589</td>\n",
       "    </tr>\n",
       "    <tr>\n",
       "      <th>7</th>\n",
       "      <td>Thank you to the Moroccan Ambassador Hilal Al ...</td>\n",
       "      <td>politique</td>\n",
       "      <td>0.229273</td>\n",
       "      <td>0.409983</td>\n",
       "      <td>0.360743</td>\n",
       "    </tr>\n",
       "    <tr>\n",
       "      <th>8</th>\n",
       "      <td>The largest enemy of Morocco and the Moroccan ...</td>\n",
       "      <td>politique</td>\n",
       "      <td>0.786034</td>\n",
       "      <td>0.206398</td>\n",
       "      <td>0.007568</td>\n",
       "    </tr>\n",
       "    <tr>\n",
       "      <th>9</th>\n",
       "      <td>Since almost all states and human rights organ...</td>\n",
       "      <td>politique</td>\n",
       "      <td>0.809871</td>\n",
       "      <td>0.181175</td>\n",
       "      <td>0.008954</td>\n",
       "    </tr>\n",
       "  </tbody>\n",
       "</table>\n",
       "</div>"
      ],
      "text/plain": [
       "                                             Comment   Category  roberta_neg  \\\n",
       "0  Nice words but there are urgent questions that...  politique     0.352582   \n",
       "1  To build a society to which everyone aspires t...  politique     0.037970   \n",
       "2  But the retirees did not mention whether they ...  politique     0.741900   \n",
       "3  It would be preferable if the doors were opene...  politique     0.140129   \n",
       "4  Experts researchers and sociologists say that ...  politique     0.794581   \n",
       "5  This is the juice of Diyal with the correctnes...  politique     0.005623   \n",
       "6  Indeed this is its condition and this is its m...  politique     0.036773   \n",
       "7  Thank you to the Moroccan Ambassador Hilal Al ...  politique     0.229273   \n",
       "8  The largest enemy of Morocco and the Moroccan ...  politique     0.786034   \n",
       "9  Since almost all states and human rights organ...  politique     0.809871   \n",
       "\n",
       "   roberta_neu  roberta_pos  \n",
       "0     0.559292     0.088126  \n",
       "1     0.620614     0.341417  \n",
       "2     0.244393     0.013707  \n",
       "3     0.631564     0.228308  \n",
       "4     0.197406     0.008013  \n",
       "5     0.199223     0.795154  \n",
       "6     0.874638     0.088589  \n",
       "7     0.409983     0.360743  \n",
       "8     0.206398     0.007568  \n",
       "9     0.181175     0.008954  "
      ]
     },
     "execution_count": 18,
     "metadata": {},
     "output_type": "execute_result"
    }
   ],
   "source": [
    "# Display some of the sentiment analysis results along with the \"Category\" column to check the output\n",
    "final_df[['Comment', 'Category', 'roberta_neg', 'roberta_neu', 'roberta_pos']].head(10)\n",
    "\n"
   ]
  },
  {
   "cell_type": "code",
   "execution_count": 21,
   "metadata": {},
   "outputs": [],
   "source": [
    "# Rename the columns\n",
    "final_df.rename(columns={'roberta_neg': 'Negative', 'roberta_neu': 'Neutral', 'roberta_pos': 'Positive'}, inplace=True)\n"
   ]
  },
  {
   "cell_type": "code",
   "execution_count": 22,
   "metadata": {},
   "outputs": [
    {
     "data": {
      "text/html": [
       "<div>\n",
       "<style scoped>\n",
       "    .dataframe tbody tr th:only-of-type {\n",
       "        vertical-align: middle;\n",
       "    }\n",
       "\n",
       "    .dataframe tbody tr th {\n",
       "        vertical-align: top;\n",
       "    }\n",
       "\n",
       "    .dataframe thead th {\n",
       "        text-align: right;\n",
       "    }\n",
       "</style>\n",
       "<table border=\"1\" class=\"dataframe\">\n",
       "  <thead>\n",
       "    <tr style=\"text-align: right;\">\n",
       "      <th></th>\n",
       "      <th>Comment</th>\n",
       "      <th>Category</th>\n",
       "      <th>Negative</th>\n",
       "      <th>Neutral</th>\n",
       "      <th>Positive</th>\n",
       "    </tr>\n",
       "  </thead>\n",
       "  <tbody>\n",
       "    <tr>\n",
       "      <th>0</th>\n",
       "      <td>Nice words but there are urgent questions that...</td>\n",
       "      <td>politique</td>\n",
       "      <td>0.352582</td>\n",
       "      <td>0.559292</td>\n",
       "      <td>0.088126</td>\n",
       "    </tr>\n",
       "    <tr>\n",
       "      <th>1</th>\n",
       "      <td>To build a society to which everyone aspires t...</td>\n",
       "      <td>politique</td>\n",
       "      <td>0.037970</td>\n",
       "      <td>0.620614</td>\n",
       "      <td>0.341417</td>\n",
       "    </tr>\n",
       "    <tr>\n",
       "      <th>2</th>\n",
       "      <td>But the retirees did not mention whether they ...</td>\n",
       "      <td>politique</td>\n",
       "      <td>0.741900</td>\n",
       "      <td>0.244393</td>\n",
       "      <td>0.013707</td>\n",
       "    </tr>\n",
       "    <tr>\n",
       "      <th>3</th>\n",
       "      <td>It would be preferable if the doors were opene...</td>\n",
       "      <td>politique</td>\n",
       "      <td>0.140129</td>\n",
       "      <td>0.631564</td>\n",
       "      <td>0.228308</td>\n",
       "    </tr>\n",
       "    <tr>\n",
       "      <th>4</th>\n",
       "      <td>Experts researchers and sociologists say that ...</td>\n",
       "      <td>politique</td>\n",
       "      <td>0.794581</td>\n",
       "      <td>0.197406</td>\n",
       "      <td>0.008013</td>\n",
       "    </tr>\n",
       "    <tr>\n",
       "      <th>5</th>\n",
       "      <td>This is the juice of Diyal with the correctnes...</td>\n",
       "      <td>politique</td>\n",
       "      <td>0.005623</td>\n",
       "      <td>0.199223</td>\n",
       "      <td>0.795154</td>\n",
       "    </tr>\n",
       "    <tr>\n",
       "      <th>6</th>\n",
       "      <td>Indeed this is its condition and this is its m...</td>\n",
       "      <td>politique</td>\n",
       "      <td>0.036773</td>\n",
       "      <td>0.874638</td>\n",
       "      <td>0.088589</td>\n",
       "    </tr>\n",
       "    <tr>\n",
       "      <th>7</th>\n",
       "      <td>Thank you to the Moroccan Ambassador Hilal Al ...</td>\n",
       "      <td>politique</td>\n",
       "      <td>0.229273</td>\n",
       "      <td>0.409983</td>\n",
       "      <td>0.360743</td>\n",
       "    </tr>\n",
       "    <tr>\n",
       "      <th>8</th>\n",
       "      <td>The largest enemy of Morocco and the Moroccan ...</td>\n",
       "      <td>politique</td>\n",
       "      <td>0.786034</td>\n",
       "      <td>0.206398</td>\n",
       "      <td>0.007568</td>\n",
       "    </tr>\n",
       "    <tr>\n",
       "      <th>9</th>\n",
       "      <td>Since almost all states and human rights organ...</td>\n",
       "      <td>politique</td>\n",
       "      <td>0.809871</td>\n",
       "      <td>0.181175</td>\n",
       "      <td>0.008954</td>\n",
       "    </tr>\n",
       "  </tbody>\n",
       "</table>\n",
       "</div>"
      ],
      "text/plain": [
       "                                             Comment   Category  Negative  \\\n",
       "0  Nice words but there are urgent questions that...  politique  0.352582   \n",
       "1  To build a society to which everyone aspires t...  politique  0.037970   \n",
       "2  But the retirees did not mention whether they ...  politique  0.741900   \n",
       "3  It would be preferable if the doors were opene...  politique  0.140129   \n",
       "4  Experts researchers and sociologists say that ...  politique  0.794581   \n",
       "5  This is the juice of Diyal with the correctnes...  politique  0.005623   \n",
       "6  Indeed this is its condition and this is its m...  politique  0.036773   \n",
       "7  Thank you to the Moroccan Ambassador Hilal Al ...  politique  0.229273   \n",
       "8  The largest enemy of Morocco and the Moroccan ...  politique  0.786034   \n",
       "9  Since almost all states and human rights organ...  politique  0.809871   \n",
       "\n",
       "    Neutral  Positive  \n",
       "0  0.559292  0.088126  \n",
       "1  0.620614  0.341417  \n",
       "2  0.244393  0.013707  \n",
       "3  0.631564  0.228308  \n",
       "4  0.197406  0.008013  \n",
       "5  0.199223  0.795154  \n",
       "6  0.874638  0.088589  \n",
       "7  0.409983  0.360743  \n",
       "8  0.206398  0.007568  \n",
       "9  0.181175  0.008954  "
      ]
     },
     "execution_count": 22,
     "metadata": {},
     "output_type": "execute_result"
    }
   ],
   "source": [
    "# Display the first 10 rows to verify the column renaming\n",
    "final_df[['Comment', 'Category', 'Negative', 'Neutral', 'Positive']].head(10)\n"
   ]
  },
  {
   "cell_type": "code",
   "execution_count": 30,
   "metadata": {},
   "outputs": [],
   "source": [
    "# Create a new DataFrame to store the maximum sentiment score for each comment\n",
    "max_sentiment_df = final_df[['Comment', 'Category']]\n"
   ]
  },
  {
   "cell_type": "code",
   "execution_count": 31,
   "metadata": {},
   "outputs": [
    {
     "name": "stderr",
     "output_type": "stream",
     "text": [
      "C:\\Users\\asus\\AppData\\Local\\Temp\\ipykernel_16044\\1426466117.py:2: SettingWithCopyWarning: \n",
      "A value is trying to be set on a copy of a slice from a DataFrame.\n",
      "Try using .loc[row_indexer,col_indexer] = value instead\n",
      "\n",
      "See the caveats in the documentation: https://pandas.pydata.org/pandas-docs/stable/user_guide/indexing.html#returning-a-view-versus-a-copy\n",
      "  max_sentiment_df['Value'] = final_df[['Negative', 'Neutral', 'Positive']].max(axis=1)\n",
      "C:\\Users\\asus\\AppData\\Local\\Temp\\ipykernel_16044\\1426466117.py:3: SettingWithCopyWarning: \n",
      "A value is trying to be set on a copy of a slice from a DataFrame.\n",
      "Try using .loc[row_indexer,col_indexer] = value instead\n",
      "\n",
      "See the caveats in the documentation: https://pandas.pydata.org/pandas-docs/stable/user_guide/indexing.html#returning-a-view-versus-a-copy\n",
      "  max_sentiment_df['Sentiment'] = final_df[['Negative', 'Neutral', 'Positive']].idxmax(axis=1)\n"
     ]
    }
   ],
   "source": [
    "# Determine the maximum sentiment score for each comment\n",
    "max_sentiment_df['Value'] = final_df[['Negative', 'Neutral', 'Positive']].max(axis=1)\n",
    "max_sentiment_df['Sentiment'] = final_df[['Negative', 'Neutral', 'Positive']].idxmax(axis=1)\n",
    "\n"
   ]
  },
  {
   "cell_type": "code",
   "execution_count": 32,
   "metadata": {},
   "outputs": [
    {
     "data": {
      "text/html": [
       "<div>\n",
       "<style scoped>\n",
       "    .dataframe tbody tr th:only-of-type {\n",
       "        vertical-align: middle;\n",
       "    }\n",
       "\n",
       "    .dataframe tbody tr th {\n",
       "        vertical-align: top;\n",
       "    }\n",
       "\n",
       "    .dataframe thead th {\n",
       "        text-align: right;\n",
       "    }\n",
       "</style>\n",
       "<table border=\"1\" class=\"dataframe\">\n",
       "  <thead>\n",
       "    <tr style=\"text-align: right;\">\n",
       "      <th></th>\n",
       "      <th>Comment</th>\n",
       "      <th>Category</th>\n",
       "      <th>Value</th>\n",
       "      <th>Sentiment</th>\n",
       "    </tr>\n",
       "  </thead>\n",
       "  <tbody>\n",
       "    <tr>\n",
       "      <th>0</th>\n",
       "      <td>Nice words but there are urgent questions that...</td>\n",
       "      <td>politique</td>\n",
       "      <td>0.559292</td>\n",
       "      <td>Neutral</td>\n",
       "    </tr>\n",
       "    <tr>\n",
       "      <th>1</th>\n",
       "      <td>To build a society to which everyone aspires t...</td>\n",
       "      <td>politique</td>\n",
       "      <td>0.620614</td>\n",
       "      <td>Neutral</td>\n",
       "    </tr>\n",
       "    <tr>\n",
       "      <th>2</th>\n",
       "      <td>But the retirees did not mention whether they ...</td>\n",
       "      <td>politique</td>\n",
       "      <td>0.741900</td>\n",
       "      <td>Negative</td>\n",
       "    </tr>\n",
       "    <tr>\n",
       "      <th>3</th>\n",
       "      <td>It would be preferable if the doors were opene...</td>\n",
       "      <td>politique</td>\n",
       "      <td>0.631564</td>\n",
       "      <td>Neutral</td>\n",
       "    </tr>\n",
       "    <tr>\n",
       "      <th>4</th>\n",
       "      <td>Experts researchers and sociologists say that ...</td>\n",
       "      <td>politique</td>\n",
       "      <td>0.794581</td>\n",
       "      <td>Negative</td>\n",
       "    </tr>\n",
       "    <tr>\n",
       "      <th>5</th>\n",
       "      <td>This is the juice of Diyal with the correctnes...</td>\n",
       "      <td>politique</td>\n",
       "      <td>0.795154</td>\n",
       "      <td>Positive</td>\n",
       "    </tr>\n",
       "    <tr>\n",
       "      <th>6</th>\n",
       "      <td>Indeed this is its condition and this is its m...</td>\n",
       "      <td>politique</td>\n",
       "      <td>0.874638</td>\n",
       "      <td>Neutral</td>\n",
       "    </tr>\n",
       "    <tr>\n",
       "      <th>7</th>\n",
       "      <td>Thank you to the Moroccan Ambassador Hilal Al ...</td>\n",
       "      <td>politique</td>\n",
       "      <td>0.409983</td>\n",
       "      <td>Neutral</td>\n",
       "    </tr>\n",
       "    <tr>\n",
       "      <th>8</th>\n",
       "      <td>The largest enemy of Morocco and the Moroccan ...</td>\n",
       "      <td>politique</td>\n",
       "      <td>0.786034</td>\n",
       "      <td>Negative</td>\n",
       "    </tr>\n",
       "    <tr>\n",
       "      <th>9</th>\n",
       "      <td>Since almost all states and human rights organ...</td>\n",
       "      <td>politique</td>\n",
       "      <td>0.809871</td>\n",
       "      <td>Negative</td>\n",
       "    </tr>\n",
       "  </tbody>\n",
       "</table>\n",
       "</div>"
      ],
      "text/plain": [
       "                                             Comment   Category     Value  \\\n",
       "0  Nice words but there are urgent questions that...  politique  0.559292   \n",
       "1  To build a society to which everyone aspires t...  politique  0.620614   \n",
       "2  But the retirees did not mention whether they ...  politique  0.741900   \n",
       "3  It would be preferable if the doors were opene...  politique  0.631564   \n",
       "4  Experts researchers and sociologists say that ...  politique  0.794581   \n",
       "5  This is the juice of Diyal with the correctnes...  politique  0.795154   \n",
       "6  Indeed this is its condition and this is its m...  politique  0.874638   \n",
       "7  Thank you to the Moroccan Ambassador Hilal Al ...  politique  0.409983   \n",
       "8  The largest enemy of Morocco and the Moroccan ...  politique  0.786034   \n",
       "9  Since almost all states and human rights organ...  politique  0.809871   \n",
       "\n",
       "  Sentiment  \n",
       "0   Neutral  \n",
       "1   Neutral  \n",
       "2  Negative  \n",
       "3   Neutral  \n",
       "4  Negative  \n",
       "5  Positive  \n",
       "6   Neutral  \n",
       "7   Neutral  \n",
       "8  Negative  \n",
       "9  Negative  "
      ]
     },
     "execution_count": 32,
     "metadata": {},
     "output_type": "execute_result"
    }
   ],
   "source": [
    "# Display the first 10 rows of the new DataFrame\n",
    "max_sentiment_df.head(10)\n",
    "\n",
    "\n",
    "\n"
   ]
  },
  {
   "cell_type": "code",
   "execution_count": 33,
   "metadata": {},
   "outputs": [],
   "source": [
    "# Save the DataFrame to a new CSV file\n",
    "max_sentiment_df.to_csv('comments.csv', index=False)\n"
   ]
  }
 ],
 "metadata": {
  "kernelspec": {
   "display_name": "Python 3",
   "language": "python",
   "name": "python3"
  },
  "language_info": {
   "codemirror_mode": {
    "name": "ipython",
    "version": 3
   },
   "file_extension": ".py",
   "mimetype": "text/x-python",
   "name": "python",
   "nbconvert_exporter": "python",
   "pygments_lexer": "ipython3",
   "version": "3.12.0"
  }
 },
 "nbformat": 4,
 "nbformat_minor": 2
}
